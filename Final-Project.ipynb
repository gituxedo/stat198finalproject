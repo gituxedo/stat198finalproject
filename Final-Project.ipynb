{
 "cells": [
  {
   "cell_type": "code",
   "execution_count": null,
   "metadata": {},
   "outputs": [],
   "source": [
    "import pandas as pd\n",
    "import numpy as np\n",
    "import scipy\n",
    "import matplotlib.pyplot as plt\n",
    "import statsmodels.tsa.stattools as st"
   ]
  },
  {
   "cell_type": "markdown",
   "metadata": {},
   "source": [
    "# Dataset: FRED-MD"
   ]
  },
  {
   "cell_type": "code",
   "execution_count": null,
   "metadata": {},
   "outputs": [],
   "source": [
    "# macroeconomic database of monthly U.S. indicators \n",
    "# such as output and income, the labor market and prices from 1959 to 2020\n",
    "df = pd.read_csv(r\"current.csv\")\n",
    "df"
   ]
  },
  {
   "cell_type": "code",
   "execution_count": null,
   "metadata": {},
   "outputs": [],
   "source": [
    "# drop everything before 1980\n",
    "fred = df[253:-2].dropna()\n",
    "fred"
   ]
  },
  {
   "cell_type": "code",
   "execution_count": null,
   "metadata": {},
   "outputs": [],
   "source": [
    "# difference the non-stationary series to stationarity, and standardize\n",
    "# the series to have zero mean and unit variance before extracting principal components\n",
    "def center(np_arr):\n",
    "    zero_mean = np_arr - np.mean(np_arr)\n",
    "    unit_variance = zero_mean / (np.std(np_arr))\n",
    "    return unit_variance"
   ]
  },
  {
   "cell_type": "code",
   "execution_count": null,
   "metadata": {},
   "outputs": [],
   "source": [
    "# standardize all columns to have zero mean and unit variance\n",
    "whitened_fred = np.empty(shape=(0,0))\n",
    "for col in fred.to_numpy().T:\n",
    "    # don't apply this to malformed columns, i.e. columns with nan or non-floats\n",
    "    if not isinstance(col[0], str):\n",
    "        whitened_fred = np.append(whitened_fred, center(col))\n",
    "whitened_fred = whitened_fred.reshape((128, 341))\n"
   ]
  },
  {
   "cell_type": "code",
   "execution_count": null,
   "metadata": {},
   "outputs": [],
   "source": [
    "# check for non-stationary and take differences of non-stationary series\n",
    "def non_stationary(timeseries):\n",
    "    # Perform augmented Dickey-Fuller test and return whether the test statistic is greater than the critical value,\n",
    "    # which means the time series is non-stationary. We pick an alpha = 0.10\n",
    "    dftest = st.adfuller(timeseries, autolag='AIC')\n",
    "    test_statistic = dftest[0]\n",
    "    crit_value = dftest[4]['10%']\n",
    "    return test_statistic > crit_value\n",
    "for col in whitened_fred:\n",
    "    if non_stationary(col):\n",
    "        "
   ]
  },
  {
   "cell_type": "code",
   "execution_count": null,
   "metadata": {},
   "outputs": [],
   "source": [
    "# test \n",
    "for col in whitened_fred:\n",
    "    print(np.mean(col), \"\\t\", np.std(col))"
   ]
  },
  {
   "cell_type": "code",
   "execution_count": null,
   "metadata": {},
   "outputs": [],
   "source": []
  }
 ],
 "metadata": {
  "kernelspec": {
   "display_name": "Python 3",
   "language": "python",
   "name": "python3"
  },
  "language_info": {
   "codemirror_mode": {
    "name": "ipython",
    "version": 3
   },
   "file_extension": ".py",
   "mimetype": "text/x-python",
   "name": "python",
   "nbconvert_exporter": "python",
   "pygments_lexer": "ipython3",
   "version": "3.7.3"
  }
 },
 "nbformat": 4,
 "nbformat_minor": 2
}
